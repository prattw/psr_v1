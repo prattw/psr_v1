{
 "cells": [
  {
   "cell_type": "code",
   "execution_count": 1,
   "metadata": {},
   "outputs": [
    {
     "name": "stdout",
     "output_type": "stream",
     "text": [
      "Intel MKL WARNING: Support of Intel(R) Streaming SIMD Extensions 4.2 (Intel(R) SSE4.2) enabled only processors has been deprecated. Intel oneAPI Math Kernel Library 2025.0 will require Intel(R) Advanced Vector Extensions (Intel(R) AVX) instructions.\n",
      "Intel MKL WARNING: Support of Intel(R) Streaming SIMD Extensions 4.2 (Intel(R) SSE4.2) enabled only processors has been deprecated. Intel oneAPI Math Kernel Library 2025.0 will require Intel(R) Advanced Vector Extensions (Intel(R) AVX) instructions.\n"
     ]
    },
    {
     "name": "stderr",
     "output_type": "stream",
     "text": [
      "2024-06-07 22:50:22.388925: I tensorflow/core/platform/cpu_feature_guard.cc:182] This TensorFlow binary is optimized to use available CPU instructions in performance-critical operations.\n",
      "To enable the following instructions: SSE4.1 SSE4.2, in other operations, rebuild TensorFlow with the appropriate compiler flags.\n"
     ]
    }
   ],
   "source": [
    "import datetime\n",
    "from alpaca_trade_api.stream import Stream\n",
    "from alpaca_trade_api.rest import REST, TimeFrame\n",
    "from tensorflow.keras.models import load_model\n",
    "import numpy as np\n",
    "import pandas as pd\n",
    "from trading_strategy import TradingStrategy\n",
    "from data_preparation import load_data, preprocess_and_save_data, create_sequences, preprocess_data\n",
    "import yaml\n",
    "import pickle\n",
    "import matplotlib.pyplot as plt\n",
    "from dotenv import load_dotenv\n",
    "import requests\n",
    "from datetime import datetime, timedelta\n",
    "import time\n",
    "import os"
   ]
  },
  {
   "cell_type": "code",
   "execution_count": 5,
   "metadata": {},
   "outputs": [],
   "source": [
    "import alpaca_trade_api as tradeapi\n",
    "\n",
    "load_dotenv()\n",
    "API_KEY = os.getenv('ALPACA_API_KEY')\n",
    "API_SECRET = os.getenv('ALPACA_SECRET_KEY')\n",
    "APCA_API_BASE_URL = \"https://paper-api.alpaca.markets\"\n",
    "\n",
    "# api = tradeapi.REST(API_KEY, API_SECRET, APCA_API_BASE_URL, 'v2')\n",
    "alpaca = REST(API_KEY, API_SECRET, base_url='https://paper-api.alpaca.markets')\n",
    "api_key = os.getenv('ALPHA_VANTAGE_API_KEY')"
   ]
  },
  {
   "cell_type": "code",
   "execution_count": 2,
   "metadata": {},
   "outputs": [],
   "source": [
    "with open('settings.yml', 'r') as f:\n",
    "    dat = yaml.load(f, Loader=yaml.SafeLoader)"
   ]
  },
  {
   "cell_type": "code",
   "execution_count": 5,
   "metadata": {},
   "outputs": [
    {
     "data": {
      "text/plain": [
       "{'META': 5, 'TSLA': 5, 'AMZN': 5, 'MSFT': 5, 'NVDA': 5, 'AAPL': 5, 'GOOG': 6}"
      ]
     },
     "execution_count": 5,
     "metadata": {},
     "output_type": "execute_result"
    }
   ],
   "source": [
    "if len(dat['stocks'])==len(dat['stock_qty']):\n",
    "    stock_qty = dict(zip(dat['stocks'],dat['stock_qty']))\n",
    "else:\n",
    "    print(\"Lengths of stocks and quantites don't match\")"
   ]
  },
  {
   "cell_type": "code",
   "execution_count": 7,
   "metadata": {},
   "outputs": [],
   "source": [
    "# Function to get the current position for a symbol\n",
    "def get_current_position(symbol):\n",
    "    try:\n",
    "        position = alpaca.get_position(symbol)\n",
    "        return float(position.qty)\n",
    "    except:\n",
    "        return 0\n",
    "\n",
    "# Function to place a trade using Alpaca API\n",
    "def place_trade(symbol, side, qty):\n",
    "    alpaca.submit_order(\n",
    "        symbol=symbol,\n",
    "        qty=qty,\n",
    "        side=side,\n",
    "        type='market',\n",
    "        time_in_force='gtc'\n",
    "    )\n",
    "\n",
    "# Function to check if it's 10 minutes before market close\n",
    "def is_market_closing_soon():\n",
    "    clock = alpaca.get_clock()\n",
    "    market_close_time = clock.next_close.replace(tzinfo=None)\n",
    "    current_time = datetime.utcnow()\n",
    "    return current_time >= (market_close_time - timedelta(minutes=10))\n",
    "\n",
    "def fetch_realtime_data(symbol):\n",
    "    url = f\"https://www.alphavantage.co/query?function=TIME_SERIES_INTRADAY&symbol={symbol}&interval=1min&apikey={api_key}&outputsize=compact\"\n",
    "    response = requests.get(url)\n",
    "    data = response.json()\n",
    "    \n",
    "    if 'Time Series (1min)' in data:\n",
    "        df = pd.DataFrame.from_dict(data['Time Series (1min)'], orient='index', dtype='float')\n",
    "        df = df.rename(columns={\"1. open\": \"Open\", \"2. high\": \"High\", \"3. low\": \"Low\", \"4. close\": \"Close\", \"5. volume\": \"Volume\"})\n",
    "        df.index = pd.to_datetime(df.index)\n",
    "        df = df.sort_index()\n",
    "        return df\n",
    "    else:\n",
    "        raise ValueError(\"Error fetching data from Alpha Vantage\")\n",
    "\n",
    "# Function to close all positions\n",
    "def close_all_positions():\n",
    "    positions = alpaca.list_positions()\n",
    "    for position in positions:\n",
    "        side = 'sell' if float(position.qty) > 0 else 'buy'\n",
    "        alpaca.submit_order(\n",
    "            symbol=position.symbol,\n",
    "            qty=abs(int(position.qty)),\n",
    "            side=side,\n",
    "            type='market',\n",
    "            time_in_force='gtc'\n",
    "        )"
   ]
  },
  {
   "cell_type": "code",
   "execution_count": 8,
   "metadata": {},
   "outputs": [
    {
     "name": "stderr",
     "output_type": "stream",
     "text": [
      "2024-06-07 22:43:54.363317: I tensorflow/core/common_runtime/executor.cc:1197] [/device:CPU:0] (DEBUG INFO) Executor start aborting (this does not indicate an error and you can ignore this message): INVALID_ARGUMENT: You must feed a value for placeholder tensor 'gradients/split_2_grad/concat/split_2/split_dim' with dtype int32\n",
      "\t [[{{node gradients/split_2_grad/concat/split_2/split_dim}}]]\n",
      "2024-06-07 22:43:54.365138: I tensorflow/core/common_runtime/executor.cc:1197] [/device:CPU:0] (DEBUG INFO) Executor start aborting (this does not indicate an error and you can ignore this message): INVALID_ARGUMENT: You must feed a value for placeholder tensor 'gradients/split_grad/concat/split/split_dim' with dtype int32\n",
      "\t [[{{node gradients/split_grad/concat/split/split_dim}}]]\n",
      "2024-06-07 22:43:54.365916: I tensorflow/core/common_runtime/executor.cc:1197] [/device:CPU:0] (DEBUG INFO) Executor start aborting (this does not indicate an error and you can ignore this message): INVALID_ARGUMENT: You must feed a value for placeholder tensor 'gradients/split_1_grad/concat/split_1/split_dim' with dtype int32\n",
      "\t [[{{node gradients/split_1_grad/concat/split_1/split_dim}}]]\n",
      "2024-06-07 22:43:54.510661: I tensorflow/core/common_runtime/executor.cc:1197] [/device:CPU:0] (DEBUG INFO) Executor start aborting (this does not indicate an error and you can ignore this message): INVALID_ARGUMENT: You must feed a value for placeholder tensor 'gradients/split_2_grad/concat/split_2/split_dim' with dtype int32\n",
      "\t [[{{node gradients/split_2_grad/concat/split_2/split_dim}}]]\n",
      "2024-06-07 22:43:54.511533: I tensorflow/core/common_runtime/executor.cc:1197] [/device:CPU:0] (DEBUG INFO) Executor start aborting (this does not indicate an error and you can ignore this message): INVALID_ARGUMENT: You must feed a value for placeholder tensor 'gradients/split_grad/concat/split/split_dim' with dtype int32\n",
      "\t [[{{node gradients/split_grad/concat/split/split_dim}}]]\n",
      "2024-06-07 22:43:54.512294: I tensorflow/core/common_runtime/executor.cc:1197] [/device:CPU:0] (DEBUG INFO) Executor start aborting (this does not indicate an error and you can ignore this message): INVALID_ARGUMENT: You must feed a value for placeholder tensor 'gradients/split_1_grad/concat/split_1/split_dim' with dtype int32\n",
      "\t [[{{node gradients/split_1_grad/concat/split_1/split_dim}}]]\n"
     ]
    }
   ],
   "source": [
    "cur_pos = {stock:0 for stock in dat['stocks']}\n",
    "model_path = '/Users/aditya/psr_v1/lstm_model_v3.keras'\n",
    "model = load_model(model_path)"
   ]
  },
  {
   "cell_type": "code",
   "execution_count": 9,
   "metadata": {},
   "outputs": [
    {
     "name": "stdout",
     "output_type": "stream",
     "text": [
      "Market is closing soon, closing all positions.\n"
     ]
    }
   ],
   "source": [
    "while True:\n",
    "        if is_market_closing_soon():\n",
    "                print(\"Market is closing soon, closing all positions.\")\n",
    "                close_all_positions()\n",
    "                break\n",
    "        for stock in dat['stocks']:\n",
    "                data = fetch_realtime_data(stock)\n",
    "                with open(f'{stock}_scaler.pkl', 'rb') as file:\n",
    "                        scaler = pickle.load(file)\n",
    "                processed_data = preprocess_and_save_data(data,stock)\n",
    "                # Now create the sequences from the processed data\n",
    "                sequences = create_sequences(processed_data.values, dat['training_duration'], dat['num_features'])\n",
    "                yhat = model.predict(sequences[-1::])\n",
    "                if ((scaler.inverse_transform(yhat)[0][3] - data.iloc[-1,3])/data.iloc[-1,3])>dat['profit_percent']:\n",
    "                        if cur_pos[stock]<=0:\n",
    "                                print(\"Placing a buy order.\")\n",
    "                                place_trade(stock, 'buy', stock_qty[stock])\n",
    "                        else:\n",
    "                                print(\"Already in a long position, no buy order placed.\")\n",
    "                elif ((scaler.inverse_transform(yhat)[0][3] - data.iloc[-1,3])/data.iloc[-1,3])<-dat['profit_percent']:\n",
    "                        if cur_pos[stock] >= 0:  # Only sell if flat or long\n",
    "                                print(\"Placing a sell order (shorting).\")\n",
    "                                place_trade(stock, 'sell', stock_qty[stock])\n",
    "                        else:\n",
    "                                print(\"Already in a short position, no sell order placed.\")\n",
    "        \n",
    "        time.sleep(60)\n",
    "        "
   ]
  },
  {
   "cell_type": "code",
   "execution_count": null,
   "metadata": {},
   "outputs": [],
   "source": []
  }
 ],
 "metadata": {
  "kernelspec": {
   "display_name": "Python 3.10.14 64-bit ('will_alp1')",
   "language": "python",
   "name": "python3"
  },
  "language_info": {
   "codemirror_mode": {
    "name": "ipython",
    "version": 3
   },
   "file_extension": ".py",
   "mimetype": "text/x-python",
   "name": "python",
   "nbconvert_exporter": "python",
   "pygments_lexer": "ipython3",
   "version": "3.10.13"
  },
  "vscode": {
   "interpreter": {
    "hash": "1c09a0b4d4ce845a60a4d5f1adff7077e3696973dac73003d19411cf538b3cf6"
   }
  }
 },
 "nbformat": 4,
 "nbformat_minor": 2
}
