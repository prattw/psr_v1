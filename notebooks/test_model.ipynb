{
 "cells": [
  {
   "cell_type": "code",
   "execution_count": 2,
   "metadata": {},
   "outputs": [
    {
     "name": "stderr",
     "output_type": "stream",
     "text": [
      "ERROR:root:An error occurred in the main workflow: 'NoneType' object is not subscriptable\n"
     ]
    },
    {
     "name": "stdout",
     "output_type": "stream",
     "text": [
      "The file your_file.csv was not found.\n",
      "Error in clean_data: 'NoneType' object has no attribute 'drop_duplicates'\n",
      "The file path_to_your_data.csv was not found.\n"
     ]
    },
    {
     "ename": "AttributeError",
     "evalue": "'NoneType' object has no attribute 'copy'",
     "output_type": "error",
     "traceback": [
      "\u001b[0;31m---------------------------------------------------------------------------\u001b[0m",
      "\u001b[0;31mAttributeError\u001b[0m                            Traceback (most recent call last)",
      "\u001b[1;32m/Users/williampratt/Documents/project_sea_ranch/notebooks/test_model.ipynb Cell 1\u001b[0m line \u001b[0;36m1\n\u001b[1;32m      <a href='vscode-notebook-cell:/Users/williampratt/Documents/project_sea_ranch/notebooks/test_model.ipynb#W0sZmlsZQ%3D%3D?line=8'>9</a>\u001b[0m raw_data \u001b[39m=\u001b[39m load_data(\u001b[39m'\u001b[39m\u001b[39mpath_to_your_data.csv\u001b[39m\u001b[39m'\u001b[39m)\n\u001b[1;32m     <a href='vscode-notebook-cell:/Users/williampratt/Documents/project_sea_ranch/notebooks/test_model.ipynb#W0sZmlsZQ%3D%3D?line=10'>11</a>\u001b[0m \u001b[39m# Assuming you have a function 'preprocess_data' in your data_preparation module\u001b[39;00m\n\u001b[1;32m     <a href='vscode-notebook-cell:/Users/williampratt/Documents/project_sea_ranch/notebooks/test_model.ipynb#W0sZmlsZQ%3D%3D?line=11'>12</a>\u001b[0m \u001b[39m# Preprocess your data\u001b[39;00m\n\u001b[0;32m---> <a href='vscode-notebook-cell:/Users/williampratt/Documents/project_sea_ranch/notebooks/test_model.ipynb#W0sZmlsZQ%3D%3D?line=12'>13</a>\u001b[0m preprocessed_data \u001b[39m=\u001b[39m preprocess_data(raw_data)\n\u001b[1;32m     <a href='vscode-notebook-cell:/Users/williampratt/Documents/project_sea_ranch/notebooks/test_model.ipynb#W0sZmlsZQ%3D%3D?line=14'>15</a>\u001b[0m \u001b[39m# Define the input shape based on your preprocessed data\u001b[39;00m\n\u001b[1;32m     <a href='vscode-notebook-cell:/Users/williampratt/Documents/project_sea_ranch/notebooks/test_model.ipynb#W0sZmlsZQ%3D%3D?line=15'>16</a>\u001b[0m \u001b[39m# For example, if using time series data with 100 timesteps and 10 features:\u001b[39;00m\n\u001b[1;32m     <a href='vscode-notebook-cell:/Users/williampratt/Documents/project_sea_ranch/notebooks/test_model.ipynb#W0sZmlsZQ%3D%3D?line=16'>17</a>\u001b[0m input_shape \u001b[39m=\u001b[39m (\u001b[39m100\u001b[39m, \u001b[39m10\u001b[39m)  \u001b[39m# Adjust this based on your dataset\u001b[39;00m\n",
      "File \u001b[0;32m~/Documents/project_sea_ranch/notebooks/../src/data_preparation.py:85\u001b[0m, in \u001b[0;36mpreprocess_data\u001b[0;34m(data)\u001b[0m\n\u001b[1;32m     71\u001b[0m \u001b[39mdef\u001b[39;00m \u001b[39mpreprocess_data\u001b[39m(data):\n\u001b[1;32m     72\u001b[0m \u001b[39m    \u001b[39m\u001b[39m\"\"\"\u001b[39;00m\n\u001b[1;32m     73\u001b[0m \u001b[39m    Preprocess data for LSTM model.\u001b[39;00m\n\u001b[1;32m     74\u001b[0m \n\u001b[0;32m   (...)\u001b[0m\n\u001b[1;32m     83\u001b[0m \u001b[39m    pandas.DataFrame: The preprocessed data ready for LSTM modeling.\u001b[39;00m\n\u001b[1;32m     84\u001b[0m \u001b[39m    \"\"\"\u001b[39;00m\n\u001b[0;32m---> 85\u001b[0m     processed_data \u001b[39m=\u001b[39m data\u001b[39m.\u001b[39;49mcopy()\n\u001b[1;32m     87\u001b[0m     \u001b[39m# Normalize features (MinMax scaling)\u001b[39;00m\n\u001b[1;32m     88\u001b[0m     scaler \u001b[39m=\u001b[39m MinMaxScaler(feature_range\u001b[39m=\u001b[39m(\u001b[39m0\u001b[39m, \u001b[39m1\u001b[39m))\n",
      "\u001b[0;31mAttributeError\u001b[0m: 'NoneType' object has no attribute 'copy'"
     ]
    }
   ],
   "source": [
    "import sys\n",
    "sys.path.append('../src')  # Adjust the path to point to the directory containing your modules\n",
    "\n",
    "from lstm_model import create_lstm_model\n",
    "from data_preparation import load_data, preprocess_data\n",
    "\n",
    "# Assuming you have a function 'load_data' in your data_preparation module\n",
    "# Load your data (make sure to provide the correct path to your CSV file)\n",
    "raw_data = load_data('path_to_your_data.csv')\n",
    "# Check if data is loaded successfully\n",
    "if raw_data is None:\n",
    "    print(\"Data loading failed. Please check the file path.\")\n",
    "else:\n",
    "    # Assuming you have a function 'preprocess_data' in your data_preparation module\n",
    "    # Preprocess your data\n",
    "    preprocessed_data = preprocess_data(raw_data)\n",
    "\n",
    "    # Define the input shape based on your preprocessed data\n",
    "    # For example, if using time series data with 100 timesteps and 10 features:\n",
    "    input_shape = (100, 10)  # Adjust this based on your dataset\n",
    "\n",
    "    # Create and load your model\n",
    "    # Make sure the 'create_lstm_model' function is defined in your lstm_model.py\n",
    "    model = create_lstm_model(input_shape)\n",
    "\n",
    "    # If your model is not yet trained, here you would train it using your training dataset\n",
    "    # model.fit(X_train, y_train, epochs=..., batch_size=...)\n",
    "\n",
    "    # Generate predictions using the model\n",
    "    # Ensure that your preprocessed_data is in the correct format expected by the model\n",
    "    predictions = model.predict(preprocessed_data)\n",
    "\n",
    "    # Check the shape and format of predictions\n",
    "    print(\"Predictions shape:\", predictions.shape)\n",
    "    print(\"Predictions:\", predictions)\n"
   ]
  }
 ],
 "metadata": {
  "kernelspec": {
   "display_name": "Python 3",
   "language": "python",
   "name": "python3"
  },
  "language_info": {
   "codemirror_mode": {
    "name": "ipython",
    "version": 3
   },
   "file_extension": ".py",
   "mimetype": "text/x-python",
   "name": "python",
   "nbconvert_exporter": "python",
   "pygments_lexer": "ipython3",
   "version": "3.11.4"
  }
 },
 "nbformat": 4,
 "nbformat_minor": 2
}
